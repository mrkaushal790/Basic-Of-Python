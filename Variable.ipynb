{
 "cells": [
  {
   "cell_type": "code",
   "execution_count": 1,
   "id": "9c044262",
   "metadata": {},
   "outputs": [
    {
     "name": "stdout",
     "output_type": "stream",
     "text": [
      "10\n"
     ]
    }
   ],
   "source": [
    "x=10\n",
    "print(x)"
   ]
  },
  {
   "cell_type": "code",
   "execution_count": 2,
   "id": "9c3fcab8",
   "metadata": {},
   "outputs": [
    {
     "data": {
      "text/plain": [
       "int"
      ]
     },
     "execution_count": 2,
     "metadata": {},
     "output_type": "execute_result"
    }
   ],
   "source": [
    "type(x)"
   ]
  },
  {
   "cell_type": "code",
   "execution_count": 3,
   "id": "d9b03239",
   "metadata": {},
   "outputs": [
    {
     "name": "stdout",
     "output_type": "stream",
     "text": [
      "10\n"
     ]
    },
    {
     "data": {
      "text/plain": [
       "int"
      ]
     },
     "execution_count": 3,
     "metadata": {},
     "output_type": "execute_result"
    }
   ],
   "source": [
    "x=10\n",
    "print(x)\n",
    "type(x)"
   ]
  },
  {
   "cell_type": "code",
   "execution_count": 4,
   "id": "e4d6f0d1",
   "metadata": {},
   "outputs": [
    {
     "data": {
      "text/plain": [
       "10"
      ]
     },
     "execution_count": 4,
     "metadata": {},
     "output_type": "execute_result"
    }
   ],
   "source": [
    "x=10\n",
    "x"
   ]
  },
  {
   "cell_type": "markdown",
   "id": "b9e4f95c",
   "metadata": {},
   "source": [
    "### Rules for naming a variable"
   ]
  },
  {
   "cell_type": "code",
   "execution_count": 1,
   "id": "fe7100ac",
   "metadata": {},
   "outputs": [
    {
     "ename": "SyntaxError",
     "evalue": "invalid syntax (2311351150.py, line 1)",
     "output_type": "error",
     "traceback": [
      "\u001b[1;36m  Cell \u001b[1;32mIn[1], line 1\u001b[1;36m\u001b[0m\n\u001b[1;33m    first name=\"Kaushal\"\u001b[0m\n\u001b[1;37m          ^\u001b[0m\n\u001b[1;31mSyntaxError\u001b[0m\u001b[1;31m:\u001b[0m invalid syntax\n"
     ]
    }
   ],
   "source": [
    "first name=\"Kaushal\"\n",
    "first name"
   ]
  },
  {
   "cell_type": "code",
   "execution_count": 2,
   "id": "1be1bac5",
   "metadata": {},
   "outputs": [
    {
     "data": {
      "text/plain": [
       "'Kaushal'"
      ]
     },
     "execution_count": 2,
     "metadata": {},
     "output_type": "execute_result"
    }
   ],
   "source": [
    "first_name=\"Kaushal\"\n",
    "first_name"
   ]
  },
  {
   "cell_type": "code",
   "execution_count": 7,
   "id": "d5c0fc3e",
   "metadata": {},
   "outputs": [
    {
     "data": {
      "text/plain": [
       "'Prema'"
      ]
     },
     "execution_count": 7,
     "metadata": {},
     "output_type": "execute_result"
    }
   ],
   "source": [
    "Firstname=\"Kaushal\"\n",
    "Firstname"
   ]
  },
  {
   "cell_type": "code",
   "execution_count": 3,
   "id": "bf8ef163",
   "metadata": {},
   "outputs": [
    {
     "ename": "SyntaxError",
     "evalue": "cannot assign to expression here. Maybe you meant '==' instead of '='? (2346537411.py, line 1)",
     "output_type": "error",
     "traceback": [
      "\u001b[1;36m  Cell \u001b[1;32mIn[3], line 1\u001b[1;36m\u001b[0m\n\u001b[1;33m    First-name=\"Rathore\"\u001b[0m\n\u001b[1;37m    ^\u001b[0m\n\u001b[1;31mSyntaxError\u001b[0m\u001b[1;31m:\u001b[0m cannot assign to expression here. Maybe you meant '==' instead of '='?\n"
     ]
    }
   ],
   "source": [
    "First-name=\"Rathore\"\n",
    "First-name"
   ]
  },
  {
   "cell_type": "code",
   "execution_count": 4,
   "id": "f0d70668",
   "metadata": {},
   "outputs": [
    {
     "data": {
      "text/plain": [
       "'Rathore'"
      ]
     },
     "execution_count": 4,
     "metadata": {},
     "output_type": "execute_result"
    }
   ],
   "source": [
    "First_name=\"Rathore\"\n",
    "First_name"
   ]
  },
  {
   "cell_type": "code",
   "execution_count": 11,
   "id": "e50fee7d",
   "metadata": {},
   "outputs": [
    {
     "data": {
      "text/plain": [
       "'ai'"
      ]
     },
     "execution_count": 11,
     "metadata": {},
     "output_type": "execute_result"
    }
   ],
   "source": [
    "_course=\"ai\"\n",
    "_course"
   ]
  },
  {
   "cell_type": "code",
   "execution_count": 5,
   "id": "09bcf13c",
   "metadata": {},
   "outputs": [
    {
     "ename": "SyntaxError",
     "evalue": "invalid decimal literal (3799702927.py, line 1)",
     "output_type": "error",
     "traceback": [
      "\u001b[1;36m  Cell \u001b[1;32mIn[5], line 1\u001b[1;36m\u001b[0m\n\u001b[1;33m    8names=\"Rathore\",\u001b[0m\n\u001b[1;37m    ^\u001b[0m\n\u001b[1;31mSyntaxError\u001b[0m\u001b[1;31m:\u001b[0m invalid decimal literal\n"
     ]
    }
   ],
   "source": [
    "8names=\"Rathore\",\n",
    "8names"
   ]
  },
  {
   "cell_type": "code",
   "execution_count": 6,
   "id": "b2fd7350",
   "metadata": {},
   "outputs": [
    {
     "data": {
      "text/plain": [
       "('Kaushal', 'Rathore')"
      ]
     },
     "execution_count": 6,
     "metadata": {},
     "output_type": "execute_result"
    }
   ],
   "source": [
    "n2ames=\"Kaushal\",\"Rathore\"\n",
    "n2ames"
   ]
  },
  {
   "cell_type": "markdown",
   "id": "a72bf286",
   "metadata": {},
   "source": [
    "#### What is x here? X is a variable-> Container to store values"
   ]
  },
  {
   "cell_type": "markdown",
   "id": "8f22791a",
   "metadata": {},
   "source": [
    "#### Variable name should not have space\n",
    "#### Variable name can start with A-Z,a-z or underscore\n",
    "#### The only allowed special character is underscore\n",
    "#### Variable name should not start with a number"
   ]
  },
  {
   "cell_type": "code",
   "execution_count": null,
   "id": "76cff69a",
   "metadata": {},
   "outputs": [],
   "source": []
  }
 ],
 "metadata": {
  "kernelspec": {
   "display_name": "Python 3 (ipykernel)",
   "language": "python",
   "name": "python3"
  },
  "language_info": {
   "codemirror_mode": {
    "name": "ipython",
    "version": 3
   },
   "file_extension": ".py",
   "mimetype": "text/x-python",
   "name": "python",
   "nbconvert_exporter": "python",
   "pygments_lexer": "ipython3",
   "version": "3.11.5"
  }
 },
 "nbformat": 4,
 "nbformat_minor": 5
}
