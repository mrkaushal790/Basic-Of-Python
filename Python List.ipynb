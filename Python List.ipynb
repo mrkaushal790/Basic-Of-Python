{
 "cells": [
  {
   "cell_type": "code",
   "execution_count": 5,
   "id": "35e7c4b1",
   "metadata": {},
   "outputs": [
    {
     "name": "stdout",
     "output_type": "stream",
     "text": [
      "[1, 2, 13, 'R', 3.4, 5.6, 'Python']\n",
      "['Piyush', 'Sheela', 'Pooja', 'Arun']\n",
      "<class 'list'>\n",
      "<class 'list'>\n"
     ]
    }
   ],
   "source": [
    "list1=[1,2,13,\"R\",3.4,5.6,\"Python\"]\n",
    "list2=[\"Piyush\",\"Sheela\",\"Pooja\",\"Arun\"]\n",
    "print(list1)\n",
    "print(list2)\n",
    "print(type(list1))\n",
    "print(type(list2))"
   ]
  },
  {
   "cell_type": "code",
   "execution_count": 6,
   "id": "3b59b159",
   "metadata": {},
   "outputs": [
    {
     "data": {
      "text/plain": [
       "False"
      ]
     },
     "execution_count": 6,
     "metadata": {},
     "output_type": "execute_result"
    }
   ],
   "source": [
    "list1==list2"
   ]
  },
  {
   "cell_type": "code",
   "execution_count": 11,
   "id": "1f8094e1",
   "metadata": {},
   "outputs": [
    {
     "data": {
      "text/plain": [
       "[2, 13, 'R', 3.4]"
      ]
     },
     "execution_count": 11,
     "metadata": {},
     "output_type": "execute_result"
    }
   ],
   "source": [
    "list1[1:5]"
   ]
  },
  {
   "cell_type": "code",
   "execution_count": 12,
   "id": "1939299b",
   "metadata": {},
   "outputs": [
    {
     "data": {
      "text/plain": [
       "['Sheela', 'Pooja']"
      ]
     },
     "execution_count": 12,
     "metadata": {},
     "output_type": "execute_result"
    }
   ],
   "source": [
    "list2[1:3]"
   ]
  },
  {
   "cell_type": "code",
   "execution_count": 13,
   "id": "bab28c96",
   "metadata": {},
   "outputs": [
    {
     "data": {
      "text/plain": [
       "['Piyush', 'Sheela', 'Pooja', 'Rishabh']"
      ]
     },
     "execution_count": 13,
     "metadata": {},
     "output_type": "execute_result"
    }
   ],
   "source": [
    "list2[-1]=\"Rishabh\"\n",
    "list2"
   ]
  },
  {
   "cell_type": "code",
   "execution_count": 14,
   "id": "d5f0fb3c",
   "metadata": {},
   "outputs": [
    {
     "data": {
      "text/plain": [
       "[1, 2, 13, 'R', 3.4, 5.6, 'Python']"
      ]
     },
     "execution_count": 14,
     "metadata": {},
     "output_type": "execute_result"
    }
   ],
   "source": [
    "list1[:]   # all"
   ]
  },
  {
   "cell_type": "code",
   "execution_count": 15,
   "id": "fed37fff",
   "metadata": {},
   "outputs": [
    {
     "data": {
      "text/plain": [
       "[1, 2, 13, 'R', 3.4, 5.6, 'Python']"
      ]
     },
     "execution_count": 15,
     "metadata": {},
     "output_type": "execute_result"
    }
   ],
   "source": [
    "list1"
   ]
  },
  {
   "cell_type": "code",
   "execution_count": 20,
   "id": "2437259f",
   "metadata": {},
   "outputs": [
    {
     "data": {
      "text/plain": [
       "[1, 13, 3.4]"
      ]
     },
     "execution_count": 20,
     "metadata": {},
     "output_type": "execute_result"
    }
   ],
   "source": [
    "list1[0:5:2]"
   ]
  },
  {
   "cell_type": "code",
   "execution_count": 21,
   "id": "d978ea96",
   "metadata": {},
   "outputs": [
    {
     "data": {
      "text/plain": [
       "[3.4, 5.6]"
      ]
     },
     "execution_count": 21,
     "metadata": {},
     "output_type": "execute_result"
    }
   ],
   "source": [
    "list1[-3:-1]"
   ]
  },
  {
   "cell_type": "code",
   "execution_count": 22,
   "id": "1625c1f9",
   "metadata": {},
   "outputs": [
    {
     "data": {
      "text/plain": [
       "[1, 2, 13, 'R', 3.4, 5.6, 'Python']"
      ]
     },
     "execution_count": 22,
     "metadata": {},
     "output_type": "execute_result"
    }
   ],
   "source": [
    "list1"
   ]
  },
  {
   "cell_type": "code",
   "execution_count": 24,
   "id": "c5e3ba0c",
   "metadata": {},
   "outputs": [
    {
     "data": {
      "text/plain": [
       "[1, 23, 34, 'R', 3.4, 5.6, 'Python']"
      ]
     },
     "execution_count": 24,
     "metadata": {},
     "output_type": "execute_result"
    }
   ],
   "source": [
    "list1[1:3]=[23,34]\n",
    "list1"
   ]
  },
  {
   "cell_type": "code",
   "execution_count": 25,
   "id": "603fb919",
   "metadata": {},
   "outputs": [
    {
     "data": {
      "text/plain": [
       "[1, 12, 15, 16, 26, 'R', 3.4, 5.6, 'Python']"
      ]
     },
     "execution_count": 25,
     "metadata": {},
     "output_type": "execute_result"
    }
   ],
   "source": [
    "list1[1:3]=[12,15,16,26]\n",
    "list1"
   ]
  },
  {
   "cell_type": "markdown",
   "id": "195dadba",
   "metadata": {},
   "source": [
    "### Heterogenous->multiple datatypes\n",
    "### We can retrieve elements using index\n",
    "### Square brackets\n",
    "### Mutable"
   ]
  },
  {
   "cell_type": "code",
   "execution_count": 28,
   "id": "4a50befa",
   "metadata": {},
   "outputs": [
    {
     "data": {
      "text/plain": [
       "[1, 12, 15, 16, 26, 'R', 3.4, 5.6, 'Python']"
      ]
     },
     "execution_count": 28,
     "metadata": {},
     "output_type": "execute_result"
    }
   ],
   "source": [
    "list1"
   ]
  },
  {
   "cell_type": "code",
   "execution_count": 29,
   "id": "157a1e04",
   "metadata": {},
   "outputs": [
    {
     "data": {
      "text/plain": [
       "[1,\n",
       " 12,\n",
       " 15,\n",
       " 16,\n",
       " 26,\n",
       " 'R',\n",
       " 3.4,\n",
       " 5.6,\n",
       " 'Python',\n",
       " 1,\n",
       " 12,\n",
       " 15,\n",
       " 16,\n",
       " 26,\n",
       " 'R',\n",
       " 3.4,\n",
       " 5.6,\n",
       " 'Python']"
      ]
     },
     "execution_count": 29,
     "metadata": {},
     "output_type": "execute_result"
    }
   ],
   "source": [
    "list3=list1*2\n",
    "list3"
   ]
  },
  {
   "cell_type": "code",
   "execution_count": 30,
   "id": "5c4fe40b",
   "metadata": {},
   "outputs": [
    {
     "data": {
      "text/plain": [
       "[1,\n",
       " 12,\n",
       " 15,\n",
       " 16,\n",
       " 26,\n",
       " 'R',\n",
       " 3.4,\n",
       " 5.6,\n",
       " 'Python',\n",
       " 'Piyush',\n",
       " 'Sheela',\n",
       " 'Pooja',\n",
       " 'Rishabh']"
      ]
     },
     "execution_count": 30,
     "metadata": {},
     "output_type": "execute_result"
    }
   ],
   "source": [
    "list4=list1+list2\n",
    "list4"
   ]
  },
  {
   "cell_type": "code",
   "execution_count": 31,
   "id": "16707e7e",
   "metadata": {},
   "outputs": [
    {
     "data": {
      "text/plain": [
       "13"
      ]
     },
     "execution_count": 31,
     "metadata": {},
     "output_type": "execute_result"
    }
   ],
   "source": [
    "len(list4)"
   ]
  },
  {
   "cell_type": "code",
   "execution_count": null,
   "id": "86d36441",
   "metadata": {},
   "outputs": [],
   "source": [
    "### iteration"
   ]
  },
  {
   "cell_type": "code",
   "execution_count": 32,
   "id": "6f41b71b",
   "metadata": {},
   "outputs": [
    {
     "name": "stdout",
     "output_type": "stream",
     "text": [
      "11\n",
      "12\n",
      "14\n",
      "13\n",
      "15\n"
     ]
    }
   ],
   "source": [
    "list1=[11,12,14,13,15]\n",
    "for i in list1:\n",
    "    print(i)"
   ]
  },
  {
   "cell_type": "code",
   "execution_count": 33,
   "id": "e43e570a",
   "metadata": {},
   "outputs": [
    {
     "data": {
      "text/plain": [
       "True"
      ]
     },
     "execution_count": 33,
     "metadata": {},
     "output_type": "execute_result"
    }
   ],
   "source": [
    "15 in list1"
   ]
  },
  {
   "cell_type": "code",
   "execution_count": 34,
   "id": "c2b12a64",
   "metadata": {},
   "outputs": [
    {
     "data": {
      "text/plain": [
       "False"
      ]
     },
     "execution_count": 34,
     "metadata": {},
     "output_type": "execute_result"
    }
   ],
   "source": [
    "17 in list1"
   ]
  },
  {
   "cell_type": "code",
   "execution_count": 35,
   "id": "f0127755",
   "metadata": {},
   "outputs": [
    {
     "data": {
      "text/plain": [
       "5"
      ]
     },
     "execution_count": 35,
     "metadata": {},
     "output_type": "execute_result"
    }
   ],
   "source": [
    "len(list1)"
   ]
  },
  {
   "cell_type": "code",
   "execution_count": 36,
   "id": "6fb7c4f1",
   "metadata": {},
   "outputs": [
    {
     "data": {
      "text/plain": [
       "15"
      ]
     },
     "execution_count": 36,
     "metadata": {},
     "output_type": "execute_result"
    }
   ],
   "source": [
    "max(list1)"
   ]
  },
  {
   "cell_type": "code",
   "execution_count": 37,
   "id": "af2c29da",
   "metadata": {},
   "outputs": [
    {
     "data": {
      "text/plain": [
       "11"
      ]
     },
     "execution_count": 37,
     "metadata": {},
     "output_type": "execute_result"
    }
   ],
   "source": [
    "min(list1)"
   ]
  },
  {
   "cell_type": "code",
   "execution_count": null,
   "id": "d396a5be",
   "metadata": {},
   "outputs": [],
   "source": []
  }
 ],
 "metadata": {
  "kernelspec": {
   "display_name": "Python 3 (ipykernel)",
   "language": "python",
   "name": "python3"
  },
  "language_info": {
   "codemirror_mode": {
    "name": "ipython",
    "version": 3
   },
   "file_extension": ".py",
   "mimetype": "text/x-python",
   "name": "python",
   "nbconvert_exporter": "python",
   "pygments_lexer": "ipython3",
   "version": "3.10.9"
  }
 },
 "nbformat": 4,
 "nbformat_minor": 5
}
