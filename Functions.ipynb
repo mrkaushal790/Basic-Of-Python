{
 "cells": [
  {
   "cell_type": "code",
   "execution_count": null,
   "id": "43d2fc76",
   "metadata": {},
   "outputs": [],
   "source": [
    "def myfun():\n",
    "    print(\"Hi!Welcome\")\n",
    "    \n",
    "myfun()"
   ]
  },
  {
   "cell_type": "code",
   "execution_count": null,
   "id": "d27de67f",
   "metadata": {},
   "outputs": [],
   "source": [
    "def add(num1,num2):\n",
    "    num3=num1+num2\n",
    "    return num3\n",
    "\n",
    "num1,num2=3,6\n",
    "num3=add(num1,num2)\n",
    "print(num3)"
   ]
  },
  {
   "cell_type": "code",
   "execution_count": null,
   "id": "b4d67a90",
   "metadata": {},
   "outputs": [],
   "source": [
    "num4,num5=3,6\n",
    "num10=add(num4,num5)\n",
    "print(num10)"
   ]
  },
  {
   "cell_type": "code",
   "execution_count": null,
   "id": "7380f7b3",
   "metadata": {},
   "outputs": [],
   "source": [
    "### function prog odd or even\n",
    "### Square of a number"
   ]
  },
  {
   "cell_type": "code",
   "execution_count": null,
   "id": "f6e02fb0",
   "metadata": {},
   "outputs": [],
   "source": [
    "def odd_even(num):\n",
    "    if num%2==0:\n",
    "        print(\"number is even\")\n",
    "    else: \n",
    "        print(\"number is odd\")\n",
    "x = int(input(\"Enter a number\"))\n",
    "odd_even(x)"
   ]
  },
  {
   "cell_type": "code",
   "execution_count": null,
   "id": "b9985e81",
   "metadata": {},
   "outputs": [],
   "source": [
    "def odd_even(num):\n",
    "    if num == 0:\n",
    "        print(\"Number is neither even nor odd\")\n",
    "    elif num % 2 == 0:\n",
    "        print(\"Number is even\")\n",
    "    else:\n",
    "        print(\"Number is odd\")\n",
    "\n",
    "x = int(input(\"Enter a number: \"))\n",
    "odd_even(x)"
   ]
  },
  {
   "cell_type": "code",
   "execution_count": null,
   "id": "8a82caae",
   "metadata": {},
   "outputs": [],
   "source": [
    "def square(num):\n",
    "    squared = num ** 2\n",
    "    print(f\"The square of {num} is: {squared}\")\n",
    "\n",
    "x = int(input(\"Enter a number: \"))\n",
    "square(x)"
   ]
  },
  {
   "cell_type": "code",
   "execution_count": 3,
   "id": "8bde4736",
   "metadata": {},
   "outputs": [
    {
     "name": "stdout",
     "output_type": "stream",
     "text": [
      "100\n",
      "23\n"
     ]
    }
   ],
   "source": [
    "def myfun(x=10,y=23):\n",
    "    print(x)\n",
    "    print(y)\n",
    "myfun(100)"
   ]
  },
  {
   "cell_type": "code",
   "execution_count": null,
   "id": "8b460795",
   "metadata": {},
   "outputs": [],
   "source": []
  }
 ],
 "metadata": {
  "kernelspec": {
   "display_name": "Python 3 (ipykernel)",
   "language": "python",
   "name": "python3"
  },
  "language_info": {
   "codemirror_mode": {
    "name": "ipython",
    "version": 3
   },
   "file_extension": ".py",
   "mimetype": "text/x-python",
   "name": "python",
   "nbconvert_exporter": "python",
   "pygments_lexer": "ipython3",
   "version": "3.10.9"
  }
 },
 "nbformat": 4,
 "nbformat_minor": 5
}
