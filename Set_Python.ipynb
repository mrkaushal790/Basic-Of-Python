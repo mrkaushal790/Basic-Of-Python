{
 "cells": [
  {
   "cell_type": "markdown",
   "id": "a032d1e2",
   "metadata": {},
   "source": [
    "### Set"
   ]
  },
  {
   "cell_type": "code",
   "execution_count": 5,
   "id": "167eacc4",
   "metadata": {},
   "outputs": [
    {
     "data": {
      "text/plain": [
       "{1.5, 2, 200, 21, 3, 'Any', 'Hello1', 'Sample', 'any', 'hello', 'hi'}"
      ]
     },
     "execution_count": 5,
     "metadata": {},
     "output_type": "execute_result"
    }
   ],
   "source": [
    "sample={\"Sample\",\"hi\",\"hello\",\"any\",2,200,1.5,3,21,\"Hello1\",\"Any\",2,200}\n",
    "sample"
   ]
  },
  {
   "cell_type": "code",
   "execution_count": 7,
   "id": "a692d639",
   "metadata": {},
   "outputs": [
    {
     "ename": "TypeError",
     "evalue": "'set' object does not support item assignment",
     "output_type": "error",
     "traceback": [
      "\u001b[1;31m---------------------------------------------------------------------------\u001b[0m",
      "\u001b[1;31mTypeError\u001b[0m                                 Traceback (most recent call last)",
      "Cell \u001b[1;32mIn[7], line 1\u001b[0m\n\u001b[1;32m----> 1\u001b[0m sample[\u001b[38;5;241m0\u001b[39m]\u001b[38;5;241m=\u001b[39m\u001b[38;5;241m100\u001b[39m\n",
      "\u001b[1;31mTypeError\u001b[0m: 'set' object does not support item assignment"
     ]
    }
   ],
   "source": [
    "sample[0]=100"
   ]
  },
  {
   "cell_type": "code",
   "execution_count": 8,
   "id": "b7a44318",
   "metadata": {},
   "outputs": [
    {
     "data": {
      "text/plain": [
       "{1.5, 2, 200, 21, 3, 'Any', 'Hello1', 'Sample', 'any', 'hello', 'hi', 'python'}"
      ]
     },
     "execution_count": 8,
     "metadata": {},
     "output_type": "execute_result"
    }
   ],
   "source": [
    "sample.add(\"python\")\n",
    "sample"
   ]
  },
  {
   "cell_type": "code",
   "execution_count": 9,
   "id": "0ec433df",
   "metadata": {},
   "outputs": [],
   "source": [
    "sample.add(10)"
   ]
  },
  {
   "cell_type": "code",
   "execution_count": 10,
   "id": "b34d134d",
   "metadata": {},
   "outputs": [
    {
     "data": {
      "text/plain": [
       "{1.5,\n",
       " 10,\n",
       " 2,\n",
       " 200,\n",
       " 21,\n",
       " 3,\n",
       " 'Any',\n",
       " 'Hello1',\n",
       " 'Sample',\n",
       " 'any',\n",
       " 'hello',\n",
       " 'hi',\n",
       " 'python'}"
      ]
     },
     "execution_count": 10,
     "metadata": {},
     "output_type": "execute_result"
    }
   ],
   "source": [
    "sample"
   ]
  },
  {
   "cell_type": "code",
   "execution_count": 11,
   "id": "adeed854",
   "metadata": {},
   "outputs": [
    {
     "data": {
      "text/plain": [
       "{1.5,\n",
       " 10,\n",
       " 2,\n",
       " 200,\n",
       " 21,\n",
       " 3,\n",
       " 'Any',\n",
       " 'Hello1',\n",
       " 'Sample',\n",
       " 'any',\n",
       " 'beet',\n",
       " 'hello',\n",
       " 'hi',\n",
       " 'python'}"
      ]
     },
     "execution_count": 11,
     "metadata": {},
     "output_type": "execute_result"
    }
   ],
   "source": [
    "sample.add(\"beet\")\n",
    "sample"
   ]
  },
  {
   "cell_type": "markdown",
   "id": "39ae853a",
   "metadata": {},
   "source": [
    "#### Set doesn't allow duplicates\n",
    "#### It gets arranged according to first number\n",
    "#### We cannot retrieve element with index\n",
    "#### Set is mutable but not with index"
   ]
  },
  {
   "cell_type": "code",
   "execution_count": 12,
   "id": "f8de9154",
   "metadata": {},
   "outputs": [
    {
     "data": {
      "text/plain": [
       "frozenset({100, 21, 'A', 'c'})"
      ]
     },
     "execution_count": 12,
     "metadata": {},
     "output_type": "execute_result"
    }
   ],
   "source": [
    "set_1=frozenset([\"A\",\"c\",100,21])\n",
    "set_1"
   ]
  },
  {
   "cell_type": "code",
   "execution_count": 13,
   "id": "39398d45",
   "metadata": {},
   "outputs": [
    {
     "ename": "AttributeError",
     "evalue": "'frozenset' object has no attribute 'add'",
     "output_type": "error",
     "traceback": [
      "\u001b[1;31m---------------------------------------------------------------------------\u001b[0m",
      "\u001b[1;31mAttributeError\u001b[0m                            Traceback (most recent call last)",
      "Cell \u001b[1;32mIn[13], line 1\u001b[0m\n\u001b[1;32m----> 1\u001b[0m \u001b[43mset_1\u001b[49m\u001b[38;5;241;43m.\u001b[39;49m\u001b[43madd\u001b[49m(\u001b[38;5;241m26\u001b[39m)\n",
      "\u001b[1;31mAttributeError\u001b[0m: 'frozenset' object has no attribute 'add'"
     ]
    }
   ],
   "source": [
    "set_1.add(26)"
   ]
  },
  {
   "cell_type": "code",
   "execution_count": null,
   "id": "06346882",
   "metadata": {},
   "outputs": [],
   "source": []
  }
 ],
 "metadata": {
  "kernelspec": {
   "display_name": "Python 3 (ipykernel)",
   "language": "python",
   "name": "python3"
  },
  "language_info": {
   "codemirror_mode": {
    "name": "ipython",
    "version": 3
   },
   "file_extension": ".py",
   "mimetype": "text/x-python",
   "name": "python",
   "nbconvert_exporter": "python",
   "pygments_lexer": "ipython3",
   "version": "3.11.5"
  }
 },
 "nbformat": 4,
 "nbformat_minor": 5
}
