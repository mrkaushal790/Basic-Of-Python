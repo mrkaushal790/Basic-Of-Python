{
 "cells": [
  {
   "cell_type": "markdown",
   "metadata": {},
   "source": [
    "# NumPy Indexing and Selection\n",
    "\n",
    "In this lecture we will discuss how to select elements or groups of elements from an array."
   ]
  },
  {
   "cell_type": "code",
   "execution_count": 1,
   "metadata": {},
   "outputs": [],
   "source": [
    "import numpy as np"
   ]
  },
  {
   "cell_type": "code",
   "execution_count": 2,
   "metadata": {},
   "outputs": [],
   "source": [
    "#Creating sample array\n",
    "arr = np.arange(0,11)"
   ]
  },
  {
   "cell_type": "code",
   "execution_count": 3,
   "metadata": {},
   "outputs": [
    {
     "data": {
      "text/plain": [
       "array([ 0,  1,  2,  3,  4,  5,  6,  7,  8,  9, 10])"
      ]
     },
     "execution_count": 3,
     "metadata": {},
     "output_type": "execute_result"
    }
   ],
   "source": [
    "#Show\n",
    "arr"
   ]
  },
  {
   "cell_type": "markdown",
   "metadata": {},
   "source": [
    "## Bracket Indexing and Selection\n",
    "The simplest way to pick one or some elements of an array looks very similar to python lists:"
   ]
  },
  {
   "cell_type": "code",
   "execution_count": 6,
   "metadata": {},
   "outputs": [
    {
     "data": {
      "text/plain": [
       "8"
      ]
     },
     "execution_count": 6,
     "metadata": {},
     "output_type": "execute_result"
    }
   ],
   "source": [
    "#Get a value at an index\n",
    "arr[8]"
   ]
  },
  {
   "cell_type": "code",
   "execution_count": 7,
   "metadata": {},
   "outputs": [
    {
     "data": {
      "text/plain": [
       "array([1, 2, 3, 4])"
      ]
     },
     "execution_count": 7,
     "metadata": {},
     "output_type": "execute_result"
    }
   ],
   "source": [
    "#Get values in a range\n",
    "arr[1:5]"
   ]
  },
  {
   "cell_type": "code",
   "execution_count": 8,
   "metadata": {},
   "outputs": [
    {
     "data": {
      "text/plain": [
       "array([0, 1, 2, 3, 4])"
      ]
     },
     "execution_count": 8,
     "metadata": {},
     "output_type": "execute_result"
    }
   ],
   "source": [
    "#Get values in a range\n",
    "arr[0:5]"
   ]
  },
  {
   "cell_type": "markdown",
   "metadata": {},
   "source": [
    "## Broadcasting\n",
    "\n",
    "Numpy arrays differ from a normal Python list because of their ability to broadcast:"
   ]
  },
  {
   "cell_type": "code",
   "execution_count": 9,
   "metadata": {},
   "outputs": [
    {
     "data": {
      "text/plain": [
       "array([ 0,  1,  2,  3,  4,  5,  6,  7,  8,  9, 10])"
      ]
     },
     "execution_count": 9,
     "metadata": {},
     "output_type": "execute_result"
    }
   ],
   "source": [
    "arr"
   ]
  },
  {
   "cell_type": "code",
   "execution_count": 12,
   "metadata": {},
   "outputs": [
    {
     "data": {
      "text/plain": [
       "array([ 0,  0,  0,  0,  4,  5,  6,  7,  8,  9, 10])"
      ]
     },
     "execution_count": 12,
     "metadata": {},
     "output_type": "execute_result"
    }
   ],
   "source": [
    "#Setting a value with index range (Broadcasting)\n",
    "arr[0:4]=0\n",
    "\n",
    "#Show\n",
    "arr"
   ]
  },
  {
   "cell_type": "code",
   "execution_count": 14,
   "metadata": {},
   "outputs": [
    {
     "data": {
      "text/plain": [
       "array([ 0,  1,  2,  3,  4,  5,  6,  7,  8,  9, 10])"
      ]
     },
     "execution_count": 14,
     "metadata": {},
     "output_type": "execute_result"
    }
   ],
   "source": [
    "# Reset array, we'll see why I had to reset in  a moment\n",
    "arr = np.arange(0,11)\n",
    "\n",
    "#Show\n",
    "arr"
   ]
  },
  {
   "cell_type": "code",
   "execution_count": 15,
   "metadata": {},
   "outputs": [
    {
     "data": {
      "text/plain": [
       "array([0, 1, 2, 3, 4, 5])"
      ]
     },
     "execution_count": 15,
     "metadata": {},
     "output_type": "execute_result"
    }
   ],
   "source": [
    "#Important notes on Slices\n",
    "slice_of_arr = arr[0:6]\n",
    "\n",
    "#Show slice\n",
    "slice_of_arr"
   ]
  },
  {
   "cell_type": "code",
   "execution_count": 16,
   "metadata": {},
   "outputs": [
    {
     "data": {
      "text/plain": [
       "array([99, 99, 99, 99, 99, 99])"
      ]
     },
     "execution_count": 16,
     "metadata": {},
     "output_type": "execute_result"
    }
   ],
   "source": [
    "#Change Slice\n",
    "slice_of_arr[:]=99\n",
    "\n",
    "#Show Slice again\n",
    "slice_of_arr"
   ]
  },
  {
   "cell_type": "markdown",
   "metadata": {},
   "source": [
    "Now note the changes also occur in our original array!"
   ]
  },
  {
   "cell_type": "code",
   "execution_count": 17,
   "metadata": {},
   "outputs": [
    {
     "data": {
      "text/plain": [
       "array([99, 99, 99, 99, 99, 99,  6,  7,  8,  9, 10])"
      ]
     },
     "execution_count": 17,
     "metadata": {},
     "output_type": "execute_result"
    }
   ],
   "source": [
    "arr"
   ]
  },
  {
   "cell_type": "markdown",
   "metadata": {},
   "source": [
    "Data is not copied, it's a view of the original array! This avoids memory problems!"
   ]
  },
  {
   "cell_type": "code",
   "execution_count": 18,
   "metadata": {},
   "outputs": [
    {
     "data": {
      "text/plain": [
       "array([99, 99, 99, 99, 99, 99,  6,  7,  8,  9, 10])"
      ]
     },
     "execution_count": 18,
     "metadata": {},
     "output_type": "execute_result"
    }
   ],
   "source": [
    "#To get a copy, need to be explicit\n",
    "arr_copy = arr.copy()\n",
    "\n",
    "arr_copy"
   ]
  },
  {
   "cell_type": "markdown",
   "metadata": {},
   "source": [
    "## Indexing a 2D array (matrices)\n",
    "\n",
    "The general format is **arr_2d[row][col]** or **arr_2d[row,col]**. I recommend usually using the comma notation for clarity."
   ]
  },
  {
   "cell_type": "code",
   "execution_count": 22,
   "metadata": {},
   "outputs": [
    {
     "data": {
      "text/plain": [
       "array([[ 5, 10, 15],\n",
       "       [20, 25, 30],\n",
       "       [35, 40, 45]])"
      ]
     },
     "execution_count": 22,
     "metadata": {},
     "output_type": "execute_result"
    }
   ],
   "source": [
    "arr_2d = np.array(([5,10,15],[20,25,30],[35,40,45]))\n",
    "\n",
    "#Show\n",
    "arr_2d"
   ]
  },
  {
   "cell_type": "code",
   "execution_count": 21,
   "metadata": {},
   "outputs": [
    {
     "data": {
      "text/plain": [
       "array([ 5, 10, 15])"
      ]
     },
     "execution_count": 21,
     "metadata": {},
     "output_type": "execute_result"
    }
   ],
   "source": [
    "#Indexing row\n",
    "arr_2d[2]\n"
   ]
  },
  {
   "cell_type": "code",
   "execution_count": 23,
   "metadata": {},
   "outputs": [
    {
     "data": {
      "text/plain": [
       "20"
      ]
     },
     "execution_count": 23,
     "metadata": {},
     "output_type": "execute_result"
    }
   ],
   "source": [
    "# Format is arr_2d[row][col] or arr_2d[row,col]\n",
    "\n",
    "# Getting individual element value\n",
    "arr_2d[1][0]"
   ]
  },
  {
   "cell_type": "code",
   "execution_count": 25,
   "metadata": {},
   "outputs": [
    {
     "data": {
      "text/plain": [
       "40"
      ]
     },
     "execution_count": 25,
     "metadata": {},
     "output_type": "execute_result"
    }
   ],
   "source": [
    "# Getting individual element value\n",
    "arr_2d[2,1]"
   ]
  },
  {
   "cell_type": "code",
   "execution_count": 27,
   "metadata": {},
   "outputs": [
    {
     "data": {
      "text/plain": [
       "array([[10, 15],\n",
       "       [25, 30]])"
      ]
     },
     "execution_count": 27,
     "metadata": {},
     "output_type": "execute_result"
    }
   ],
   "source": [
    "# 2D array slicing\n",
    "\n",
    "#Shape (2,2) from top right corner\n",
    "arr_2d[:2,1:]"
   ]
  },
  {
   "cell_type": "code",
   "execution_count": 26,
   "metadata": {},
   "outputs": [
    {
     "data": {
      "text/plain": [
       "array([[ 5, 10, 15],\n",
       "       [20, 25, 30],\n",
       "       [35, 40, 45]])"
      ]
     },
     "execution_count": 26,
     "metadata": {},
     "output_type": "execute_result"
    }
   ],
   "source": [
    "arr_2d"
   ]
  },
  {
   "cell_type": "code",
   "execution_count": 28,
   "metadata": {},
   "outputs": [
    {
     "data": {
      "text/plain": [
       "array([35, 40, 45])"
      ]
     },
     "execution_count": 28,
     "metadata": {},
     "output_type": "execute_result"
    }
   ],
   "source": [
    "#Shape bottom row\n",
    "arr_2d[2]"
   ]
  },
  {
   "cell_type": "code",
   "execution_count": 29,
   "metadata": {},
   "outputs": [
    {
     "data": {
      "text/plain": [
       "array([35, 40, 45])"
      ]
     },
     "execution_count": 29,
     "metadata": {},
     "output_type": "execute_result"
    }
   ],
   "source": [
    "#Shape bottom row\n",
    "arr_2d[2,:]"
   ]
  },
  {
   "cell_type": "code",
   "execution_count": 41,
   "metadata": {},
   "outputs": [
    {
     "data": {
      "text/plain": [
       "array([-0.6526091 , -0.02630934,  0.91983003,  0.15993554, -1.07591101,\n",
       "       -0.75905247, -0.07146194, -0.08286636,  0.03489129, -1.15258972,\n",
       "        1.28084973, -2.06809008, -0.77435655,  1.61441021,  0.35558346,\n",
       "       -0.08483462, -0.58064828,  0.0640257 ,  1.80586206, -0.04544015,\n",
       "       -0.66970155,  0.13441481, -1.25054461, -1.04630676, -2.52055913,\n",
       "        0.3202927 ,  0.36638039])"
      ]
     },
     "execution_count": 41,
     "metadata": {},
     "output_type": "execute_result"
    }
   ],
   "source": [
    "arr_3d = np.random.randn(27)\n",
    "arr_3d"
   ]
  },
  {
   "cell_type": "code",
   "execution_count": 37,
   "metadata": {},
   "outputs": [],
   "source": [
    "arr_3d_1 = arr_3d.reshape(3,3,3)"
   ]
  },
  {
   "cell_type": "code",
   "execution_count": 38,
   "metadata": {},
   "outputs": [
    {
     "data": {
      "text/plain": [
       "array([[[[ 5.96403995e-01, -1.15465189e+00,  5.33008217e-02,\n",
       "           1.44021430e-01],\n",
       "         [ 4.49581017e-01,  1.99967188e-01,  3.10924068e+00,\n",
       "           3.13873747e-01],\n",
       "         [-3.04654826e-01,  7.70615345e-01,  8.40151146e-01,\n",
       "          -1.20726234e+00],\n",
       "         [-1.32588391e+00, -9.10082726e-01, -1.80050721e-02,\n",
       "           4.25825066e-01]],\n",
       "\n",
       "        [[-1.78037619e-01, -1.01061752e+00,  1.25714994e-01,\n",
       "          -9.61068189e-02],\n",
       "         [ 8.06725390e-01,  4.84974313e-01, -8.84193526e-01,\n",
       "          -9.21551791e-01],\n",
       "         [ 3.90584010e-01,  1.14418725e+00, -1.57229670e-01,\n",
       "           8.65170262e-02],\n",
       "         [-1.31528501e+00, -6.51399104e-01,  1.95786907e-01,\n",
       "          -1.89628826e+00]],\n",
       "\n",
       "        [[ 7.88259673e-03,  1.56744637e+00,  2.06417733e+00,\n",
       "           3.92678401e-01],\n",
       "         [-3.48436500e-01, -8.97203846e-01, -6.69150181e-01,\n",
       "           8.19061768e-02],\n",
       "         [-6.04994547e-01, -3.50770159e-01,  1.09739642e+00,\n",
       "           1.35154086e+00],\n",
       "         [-1.75571691e+00, -1.42574928e+00, -1.47877906e+00,\n",
       "           9.97065301e-01]],\n",
       "\n",
       "        [[ 1.98960862e+00,  1.59924275e-01, -1.31997549e+00,\n",
       "          -1.75434911e+00],\n",
       "         [ 6.35371285e-01, -4.60895104e-01,  2.37287475e-01,\n",
       "           1.06471046e+00],\n",
       "         [-9.71935134e-01, -1.06943701e+00, -5.03498781e-02,\n",
       "           1.31728712e-01],\n",
       "         [-8.74934823e-01,  1.59165791e+00,  2.61673584e-01,\n",
       "           2.74080411e+00]]],\n",
       "\n",
       "\n",
       "       [[[ 9.78320048e-01,  1.02434631e+00,  4.61114829e-01,\n",
       "          -8.42971283e-01],\n",
       "         [-6.67480960e-01,  1.83189948e-01, -2.04285120e-01,\n",
       "           8.82003791e-01],\n",
       "         [ 2.03761855e+00, -1.04938223e+00,  5.67893047e-01,\n",
       "           1.69649575e+00],\n",
       "         [-1.21839218e+00,  2.37729169e+00,  9.71463030e-01,\n",
       "          -4.60768070e-01]],\n",
       "\n",
       "        [[-1.79968396e+00, -8.94666845e-02,  1.97379628e+00,\n",
       "          -8.56882678e-01],\n",
       "         [-4.67454778e-01, -9.85493122e-01, -9.26933235e-01,\n",
       "          -2.87884804e+00],\n",
       "         [ 1.46476165e-01, -4.81723552e-01,  6.08381594e-01,\n",
       "          -1.48515185e+00],\n",
       "         [-2.63989990e+00,  3.41768998e-01,  7.20914444e-01,\n",
       "           1.76572354e+00]],\n",
       "\n",
       "        [[ 1.87729265e+00,  4.04977379e-01, -1.34838909e+00,\n",
       "          -6.42042839e-01],\n",
       "         [ 3.57228107e-01, -2.43700452e-01, -5.52608031e-01,\n",
       "           3.92019396e-01],\n",
       "         [-1.76380629e+00, -1.23189321e+00, -4.97729004e-01,\n",
       "          -9.05751845e-03],\n",
       "         [-6.98424182e-02,  1.71644248e+00,  5.91125920e-01,\n",
       "          -5.50562193e-01]],\n",
       "\n",
       "        [[ 1.48574757e+00, -3.87892440e-01,  5.39880150e-01,\n",
       "          -2.13491817e-01],\n",
       "         [ 1.21559321e+00,  1.88736553e-01, -7.34365948e-01,\n",
       "          -1.12820018e+00],\n",
       "         [-6.11331206e-01, -1.50082510e+00,  1.13709561e+00,\n",
       "           2.02889021e-01],\n",
       "         [ 1.25624807e+00, -2.50912916e-01, -6.12516884e-01,\n",
       "          -4.78143916e-01]]],\n",
       "\n",
       "\n",
       "       [[[ 6.29768915e-01,  2.59695353e+00, -2.00816380e+00,\n",
       "          -1.14307261e+00],\n",
       "         [ 1.00955868e+00, -4.67319900e-01, -4.52390960e-01,\n",
       "           3.61326403e-01],\n",
       "         [-2.02749760e+00, -6.64102533e-01, -5.04423179e-01,\n",
       "          -4.85609207e-01],\n",
       "         [ 1.15766519e+00,  5.58392610e-01,  8.08061368e-01,\n",
       "          -1.10063461e+00]],\n",
       "\n",
       "        [[ 4.64034469e-02, -4.65336265e-01,  1.03044525e-03,\n",
       "          -1.55482441e+00],\n",
       "         [-3.16241586e-01, -1.51003173e+00, -8.41260460e-02,\n",
       "           3.01516319e-01],\n",
       "         [-1.38082384e-01,  1.97770469e-01, -6.44211221e-01,\n",
       "          -8.60867676e-01],\n",
       "         [-8.70428982e-01,  2.82481964e-01,  8.18887184e-01,\n",
       "           1.15276875e+00]],\n",
       "\n",
       "        [[ 4.69300011e-02,  1.86416420e+00, -1.00721535e+00,\n",
       "          -1.29803961e+00],\n",
       "         [-4.45516525e-01, -7.90653108e-01,  1.21743018e+00,\n",
       "          -1.04839326e-01],\n",
       "         [ 1.14586331e+00,  5.60267252e-01, -7.42686863e-01,\n",
       "           4.48567807e-01],\n",
       "         [-3.79595486e-01, -2.09318998e+00, -9.50548099e-01,\n",
       "          -7.29799017e-01]],\n",
       "\n",
       "        [[-3.43030605e-01,  1.11252412e+00,  5.64458516e-01,\n",
       "           2.32875551e-01],\n",
       "         [-3.26938260e-01,  6.95675171e-01, -3.24337156e-02,\n",
       "           3.62391617e-01],\n",
       "         [-7.30537761e-01,  3.02428556e-01,  1.20761632e+00,\n",
       "           9.95850224e-01],\n",
       "         [ 4.38645978e-01, -2.04414963e+00,  1.33982328e+00,\n",
       "          -1.90238521e+00]]],\n",
       "\n",
       "\n",
       "       [[[-7.70648690e-01,  2.07235805e-02, -6.82809406e-01,\n",
       "          -5.79999963e-01],\n",
       "         [ 2.84376166e-01, -1.92006263e-01, -5.87817253e-01,\n",
       "           5.05801195e-01],\n",
       "         [-1.19310514e+00,  1.40207702e+00, -1.35573484e+00,\n",
       "          -4.72990353e-01],\n",
       "         [ 9.26959791e-01,  4.78731198e-01, -5.25451177e-01,\n",
       "           1.36273903e+00]],\n",
       "\n",
       "        [[-2.80724372e-01,  1.10692977e+00, -1.96221313e+00,\n",
       "          -3.68663747e-01],\n",
       "         [-1.13161443e+00,  3.33230618e-01,  1.50912622e+00,\n",
       "           3.78802885e-01],\n",
       "         [ 1.19734275e+00, -1.13222868e+00, -5.64872156e-01,\n",
       "           8.29500649e-01],\n",
       "         [ 6.59909169e-01,  6.49528472e-01, -8.79367016e-01,\n",
       "           1.26728250e+00]],\n",
       "\n",
       "        [[ 7.31686135e-01,  1.81176843e-01,  7.34955483e-01,\n",
       "          -1.26042803e+00],\n",
       "         [ 2.26042438e+00,  3.98558579e-01, -8.24132967e-01,\n",
       "           2.77256408e-01],\n",
       "         [ 1.55987533e+00,  1.25656359e+00, -7.14672765e-01,\n",
       "           3.77359952e-01],\n",
       "         [ 9.25516217e-01, -1.46835200e+00, -1.05641643e+00,\n",
       "          -1.16303462e+00]],\n",
       "\n",
       "        [[ 1.12781400e+00, -1.48039642e+00,  4.81520651e-01,\n",
       "          -1.62075195e+00],\n",
       "         [ 5.64411239e-02, -9.93639453e-01,  2.64338155e-01,\n",
       "          -6.56010806e-01],\n",
       "         [ 8.27579728e-02, -4.21145663e-01,  5.23131485e-01,\n",
       "          -1.39125691e+00],\n",
       "         [-2.12626810e+00,  2.22271045e-01, -2.44803451e-02,\n",
       "          -1.42748809e-01]]]])"
      ]
     },
     "execution_count": 38,
     "metadata": {},
     "output_type": "execute_result"
    }
   ],
   "source": [
    "arr_3d_1"
   ]
  },
  {
   "cell_type": "code",
   "execution_count": 40,
   "metadata": {},
   "outputs": [
    {
     "data": {
      "text/plain": [
       "array([0.30242856, 1.20761632, 0.99585022])"
      ]
     },
     "execution_count": 40,
     "metadata": {},
     "output_type": "execute_result"
    }
   ],
   "source": [
    "arr_3d_1[2,3,2,1:]"
   ]
  },
  {
   "cell_type": "markdown",
   "metadata": {},
   "source": [
    "### Fancy Indexing\n",
    "\n",
    "Fancy indexing allows you to select entire rows or columns out of order,to show this, let's quickly build out a numpy array:"
   ]
  },
  {
   "cell_type": "code",
   "execution_count": 51,
   "metadata": {},
   "outputs": [
    {
     "data": {
      "text/plain": [
       "array([[0., 0., 0., 0., 0., 0., 0., 0., 0., 0.],\n",
       "       [0., 0., 0., 0., 0., 0., 0., 0., 0., 0.],\n",
       "       [0., 0., 0., 0., 0., 0., 0., 0., 0., 0.],\n",
       "       [0., 0., 0., 0., 0., 0., 0., 0., 0., 0.],\n",
       "       [0., 0., 0., 0., 0., 0., 0., 0., 0., 0.],\n",
       "       [0., 0., 0., 0., 0., 0., 0., 0., 0., 0.],\n",
       "       [0., 0., 0., 0., 0., 0., 0., 0., 0., 0.],\n",
       "       [0., 0., 0., 0., 0., 0., 0., 0., 0., 0.],\n",
       "       [0., 0., 0., 0., 0., 0., 0., 0., 0., 0.],\n",
       "       [0., 0., 0., 0., 0., 0., 0., 0., 0., 0.]])"
      ]
     },
     "execution_count": 51,
     "metadata": {},
     "output_type": "execute_result"
    }
   ],
   "source": [
    "#Set up matrix\n",
    "arr2d = np.zeros((10,10))\n",
    "arr2d"
   ]
  },
  {
   "cell_type": "code",
   "execution_count": 52,
   "metadata": {},
   "outputs": [
    {
     "data": {
      "text/plain": [
       "10"
      ]
     },
     "execution_count": 52,
     "metadata": {},
     "output_type": "execute_result"
    }
   ],
   "source": [
    "#Length of array\n",
    "arr_length = arr2d.shape[1]\n",
    "arr_length"
   ]
  },
  {
   "cell_type": "code",
   "execution_count": 53,
   "metadata": {},
   "outputs": [
    {
     "data": {
      "text/plain": [
       "array([[0., 0., 0., 0., 0., 0., 0., 0., 0., 0.],\n",
       "       [1., 1., 1., 1., 1., 1., 1., 1., 1., 1.],\n",
       "       [2., 2., 2., 2., 2., 2., 2., 2., 2., 2.],\n",
       "       [3., 3., 3., 3., 3., 3., 3., 3., 3., 3.],\n",
       "       [4., 4., 4., 4., 4., 4., 4., 4., 4., 4.],\n",
       "       [5., 5., 5., 5., 5., 5., 5., 5., 5., 5.],\n",
       "       [6., 6., 6., 6., 6., 6., 6., 6., 6., 6.],\n",
       "       [7., 7., 7., 7., 7., 7., 7., 7., 7., 7.],\n",
       "       [8., 8., 8., 8., 8., 8., 8., 8., 8., 8.],\n",
       "       [9., 9., 9., 9., 9., 9., 9., 9., 9., 9.]])"
      ]
     },
     "execution_count": 53,
     "metadata": {},
     "output_type": "execute_result"
    }
   ],
   "source": [
    "#Set up array\n",
    "\n",
    "for i in range(arr_length):\n",
    "    arr2d[i] = i\n",
    "    \n",
    "arr2d"
   ]
  },
  {
   "cell_type": "markdown",
   "metadata": {},
   "source": [
    "Fancy indexing allows the following"
   ]
  },
  {
   "cell_type": "code",
   "execution_count": 56,
   "metadata": {},
   "outputs": [
    {
     "data": {
      "text/plain": [
       "array([[2., 2., 2., 2., 2., 2., 2., 2., 2., 2.],\n",
       "       [4., 4., 4., 4., 4., 4., 4., 4., 4., 4.],\n",
       "       [6., 6., 6., 6., 6., 6., 6., 6., 6., 6.],\n",
       "       [8., 8., 8., 8., 8., 8., 8., 8., 8., 8.]])"
      ]
     },
     "execution_count": 56,
     "metadata": {},
     "output_type": "execute_result"
    }
   ],
   "source": [
    "arr2d[[2,4,6,8]]"
   ]
  },
  {
   "cell_type": "code",
   "execution_count": 57,
   "metadata": {},
   "outputs": [
    {
     "data": {
      "text/plain": [
       "array([[6., 6., 6., 6., 6., 6., 6., 6., 6., 6.],\n",
       "       [4., 4., 4., 4., 4., 4., 4., 4., 4., 4.],\n",
       "       [2., 2., 2., 2., 2., 2., 2., 2., 2., 2.],\n",
       "       [7., 7., 7., 7., 7., 7., 7., 7., 7., 7.]])"
      ]
     },
     "execution_count": 57,
     "metadata": {},
     "output_type": "execute_result"
    }
   ],
   "source": [
    "#Allows in any order\n",
    "arr2d[[6,4,2,7]]"
   ]
  },
  {
   "cell_type": "markdown",
   "metadata": {},
   "source": [
    "## More Indexing Help\n",
    "Indexing a 2d matrix can be a bit confusing at first, especially when you start to add in step size. Try google image searching NumPy indexing to fins useful images, like this one:\n",
    "\n",
    "<img src= 'http://memory.osu.edu/classes/python/_images/numpy_indexing.png' width=500/>"
   ]
  },
  {
   "cell_type": "markdown",
   "metadata": {},
   "source": [
    "## Selection\n",
    "\n",
    "Let's briefly go over how to use brackets for selection based off of comparison operators."
   ]
  },
  {
   "cell_type": "code",
   "execution_count": 58,
   "metadata": {},
   "outputs": [
    {
     "data": {
      "text/plain": [
       "array([ 1,  2,  3,  4,  5,  6,  7,  8,  9, 10])"
      ]
     },
     "execution_count": 58,
     "metadata": {},
     "output_type": "execute_result"
    }
   ],
   "source": [
    "arr = np.arange(1,11)\n",
    "arr"
   ]
  },
  {
   "cell_type": "code",
   "execution_count": 59,
   "metadata": {},
   "outputs": [
    {
     "data": {
      "text/plain": [
       "array([False, False, False, False,  True,  True,  True,  True,  True,\n",
       "        True])"
      ]
     },
     "execution_count": 59,
     "metadata": {},
     "output_type": "execute_result"
    }
   ],
   "source": [
    "arr > 4"
   ]
  },
  {
   "cell_type": "code",
   "execution_count": 60,
   "metadata": {},
   "outputs": [],
   "source": [
    "bool_arr = arr>4"
   ]
  },
  {
   "cell_type": "code",
   "execution_count": 61,
   "metadata": {},
   "outputs": [
    {
     "data": {
      "text/plain": [
       "array([False, False, False, False,  True,  True,  True,  True,  True,\n",
       "        True])"
      ]
     },
     "execution_count": 61,
     "metadata": {},
     "output_type": "execute_result"
    }
   ],
   "source": [
    "bool_arr"
   ]
  },
  {
   "cell_type": "code",
   "execution_count": 62,
   "metadata": {},
   "outputs": [
    {
     "data": {
      "text/plain": [
       "array([ 5,  6,  7,  8,  9, 10])"
      ]
     },
     "execution_count": 62,
     "metadata": {},
     "output_type": "execute_result"
    }
   ],
   "source": [
    "arr[bool_arr]"
   ]
  },
  {
   "cell_type": "code",
   "execution_count": 63,
   "metadata": {},
   "outputs": [
    {
     "data": {
      "text/plain": [
       "array([ 3,  4,  5,  6,  7,  8,  9, 10])"
      ]
     },
     "execution_count": 63,
     "metadata": {},
     "output_type": "execute_result"
    }
   ],
   "source": [
    "arr[arr>2]"
   ]
  },
  {
   "cell_type": "code",
   "execution_count": 64,
   "metadata": {},
   "outputs": [
    {
     "data": {
      "text/plain": [
       "array([ 3,  4,  5,  6,  7,  8,  9, 10])"
      ]
     },
     "execution_count": 64,
     "metadata": {},
     "output_type": "execute_result"
    }
   ],
   "source": [
    "x = 2\n",
    "arr[arr>x]"
   ]
  },
  {
   "cell_type": "code",
   "execution_count": null,
   "metadata": {},
   "outputs": [],
   "source": []
  }
 ],
 "metadata": {
  "kernelspec": {
   "display_name": "Python 3 (ipykernel)",
   "language": "python",
   "name": "python3"
  },
  "language_info": {
   "codemirror_mode": {
    "name": "ipython",
    "version": 3
   },
   "file_extension": ".py",
   "mimetype": "text/x-python",
   "name": "python",
   "nbconvert_exporter": "python",
   "pygments_lexer": "ipython3",
   "version": "3.10.9"
  }
 },
 "nbformat": 4,
 "nbformat_minor": 1
}
