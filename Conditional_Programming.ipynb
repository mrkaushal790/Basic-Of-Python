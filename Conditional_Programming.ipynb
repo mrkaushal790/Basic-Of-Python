{
 "cells": [
  {
   "cell_type": "code",
   "execution_count": 1,
   "id": "84d60916",
   "metadata": {},
   "outputs": [
    {
     "name": "stdout",
     "output_type": "stream",
     "text": [
      "a is gratter than b\n"
     ]
    }
   ],
   "source": [
    "a,b=9,5\n",
    "\n",
    "if a+b:\n",
    "    print(\"a is gratter than b\")"
   ]
  },
  {
   "cell_type": "code",
   "execution_count": 3,
   "id": "7dba1835",
   "metadata": {},
   "outputs": [
    {
     "name": "stdout",
     "output_type": "stream",
     "text": [
      "b is gratter than a\n"
     ]
    }
   ],
   "source": [
    "a,b=1,5\n",
    "\n",
    "if a>b:\n",
    "    print(\"a is gratter than b\")\n",
    "else:\n",
    "    print(\"b is gratter than a\")"
   ]
  },
  {
   "cell_type": "code",
   "execution_count": 5,
   "id": "bd5438e4",
   "metadata": {},
   "outputs": [
    {
     "name": "stdout",
     "output_type": "stream",
     "text": [
      "b is equaL to a\n"
     ]
    }
   ],
   "source": [
    "a,b=5,5\n",
    "\n",
    "if a>b:\n",
    "    print(\"a is gratter than b\")\n",
    "elif a==b:\n",
    "    print(\"b is equaL to a\")    \n",
    "else:\n",
    "    print(\"b is gratter than a\")"
   ]
  },
  {
   "cell_type": "code",
   "execution_count": 6,
   "id": "971362b8",
   "metadata": {},
   "outputs": [
    {
     "name": "stdout",
     "output_type": "stream",
     "text": [
      "even\n"
     ]
    }
   ],
   "source": [
    "num=10\n",
    "\n",
    "if num%2==0:\n",
    "    print(\"even\")\n",
    "else:\n",
    "    print(\"odd\")"
   ]
  },
  {
   "cell_type": "code",
   "execution_count": 7,
   "id": "9ee2a054",
   "metadata": {},
   "outputs": [
    {
     "name": "stdout",
     "output_type": "stream",
     "text": [
      "Enter a number: 5\n",
      "odd\n"
     ]
    }
   ],
   "source": [
    "num = int(input(\"Enter a number: \"))\n",
    "\n",
    "if num%2==0:\n",
    "    print(\"even\")\n",
    "else:\n",
    "    print(\"odd\")"
   ]
  },
  {
   "cell_type": "code",
   "execution_count": 8,
   "id": "f0fd5c00",
   "metadata": {},
   "outputs": [
    {
     "name": "stdout",
     "output_type": "stream",
     "text": [
      "Enter a number: 1.2\n",
      "odd\n"
     ]
    }
   ],
   "source": [
    "num = float(input(\"Enter a number: \"))\n",
    "\n",
    "if num%2==0:\n",
    "    print(\"even\")\n",
    "else:\n",
    "    print(\"odd\")"
   ]
  },
  {
   "cell_type": "code",
   "execution_count": null,
   "id": "851d6270",
   "metadata": {},
   "outputs": [],
   "source": []
  }
 ],
 "metadata": {
  "kernelspec": {
   "display_name": "Python 3 (ipykernel)",
   "language": "python",
   "name": "python3"
  },
  "language_info": {
   "codemirror_mode": {
    "name": "ipython",
    "version": 3
   },
   "file_extension": ".py",
   "mimetype": "text/x-python",
   "name": "python",
   "nbconvert_exporter": "python",
   "pygments_lexer": "ipython3",
   "version": "3.11.5"
  }
 },
 "nbformat": 4,
 "nbformat_minor": 5
}
