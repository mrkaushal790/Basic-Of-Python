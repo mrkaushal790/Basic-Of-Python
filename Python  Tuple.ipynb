{
 "cells": [
  {
   "cell_type": "code",
   "execution_count": 3,
   "id": "8aadd484",
   "metadata": {},
   "outputs": [
    {
     "name": "stdout",
     "output_type": "stream",
     "text": [
      "(1, 2, 13, 'R', 3.4, 5.6, 'Python')\n",
      "('Piyush', 'Sheela', 'Pooja', 'Arun')\n",
      "<class 'tuple'>\n",
      "<class 'tuple'>\n"
     ]
    }
   ],
   "source": [
    "ex1=(1,2,13,\"R\",3.4,5.6,\"Python\")\n",
    "ex2=(\"Piyush\",\"Sheela\",\"Pooja\",\"Arun\")\n",
    "print(ex1)\n",
    "print(ex2)\n",
    "print(type(ex1))\n",
    "print(type(ex2))"
   ]
  },
  {
   "cell_type": "code",
   "execution_count": 4,
   "id": "f5ba80fb",
   "metadata": {},
   "outputs": [
    {
     "name": "stdout",
     "output_type": "stream",
     "text": [
      "(1, 2, 13, 'R', 3.4, 5.6, 'Python')\n",
      "('Piyush', 'Sheela', 'Pooja', 'Arun')\n",
      "<class 'tuple'>\n",
      "<class 'tuple'>\n"
     ]
    }
   ],
   "source": [
    "ex1=1,2,13,\"R\",3.4,5.6,\"Python\"\n",
    "ex2=\"Piyush\",\"Sheela\",\"Pooja\",\"Arun\"\n",
    "print(ex1)\n",
    "print(ex2)\n",
    "print(type(ex1))\n",
    "print(type(ex2))"
   ]
  },
  {
   "cell_type": "code",
   "execution_count": 5,
   "id": "6811c26f",
   "metadata": {},
   "outputs": [
    {
     "data": {
      "text/plain": [
       "False"
      ]
     },
     "execution_count": 5,
     "metadata": {},
     "output_type": "execute_result"
    }
   ],
   "source": [
    "ex1==ex2"
   ]
  },
  {
   "cell_type": "code",
   "execution_count": 6,
   "id": "8e6779c3",
   "metadata": {},
   "outputs": [
    {
     "data": {
      "text/plain": [
       "(2, 13, 'R', 3.4)"
      ]
     },
     "execution_count": 6,
     "metadata": {},
     "output_type": "execute_result"
    }
   ],
   "source": [
    "ex1[1:5]"
   ]
  },
  {
   "cell_type": "code",
   "execution_count": 7,
   "id": "1fa75702",
   "metadata": {},
   "outputs": [
    {
     "data": {
      "text/plain": [
       "'Pooja'"
      ]
     },
     "execution_count": 7,
     "metadata": {},
     "output_type": "execute_result"
    }
   ],
   "source": [
    "ex2[-2]"
   ]
  },
  {
   "cell_type": "code",
   "execution_count": 8,
   "id": "bc1ed9c9",
   "metadata": {},
   "outputs": [
    {
     "ename": "TypeError",
     "evalue": "'tuple' object does not support item assignment",
     "output_type": "error",
     "traceback": [
      "\u001b[1;31m---------------------------------------------------------------------------\u001b[0m",
      "\u001b[1;31mTypeError\u001b[0m                                 Traceback (most recent call last)",
      "Cell \u001b[1;32mIn[8], line 1\u001b[0m\n\u001b[1;32m----> 1\u001b[0m ex2[\u001b[38;5;241m-\u001b[39m\u001b[38;5;241m2\u001b[39m]\u001b[38;5;241m=\u001b[39m\u001b[38;5;124m\"\u001b[39m\u001b[38;5;124mVaishnavi\u001b[39m\u001b[38;5;124m\"\u001b[39m\n\u001b[0;32m      2\u001b[0m ex2\n",
      "\u001b[1;31mTypeError\u001b[0m: 'tuple' object does not support item assignment"
     ]
    }
   ],
   "source": [
    "ex2[-2]=\"Vaishnavi\"\n",
    "ex2"
   ]
  },
  {
   "cell_type": "markdown",
   "id": "06fc5849",
   "metadata": {},
   "source": [
    "### Tuple is written with Paranthesis or without any brackets\n",
    "### We can retrieve the elements using index\n",
    "### Heterogenous->multiple data types\n",
    "### Immutable->Cannot be changed once created"
   ]
  },
  {
   "cell_type": "code",
   "execution_count": 10,
   "id": "5b8234a5",
   "metadata": {},
   "outputs": [
    {
     "data": {
      "text/plain": [
       "('Piyush', 'Sheela', 'Pooja', 'Arun')"
      ]
     },
     "execution_count": 10,
     "metadata": {},
     "output_type": "execute_result"
    }
   ],
   "source": [
    "ex2"
   ]
  },
  {
   "cell_type": "code",
   "execution_count": 11,
   "id": "7eb03544",
   "metadata": {},
   "outputs": [
    {
     "data": {
      "text/plain": [
       "tuple"
      ]
     },
     "execution_count": 11,
     "metadata": {},
     "output_type": "execute_result"
    }
   ],
   "source": [
    "type(ex2)"
   ]
  },
  {
   "cell_type": "code",
   "execution_count": 12,
   "id": "76589394",
   "metadata": {},
   "outputs": [],
   "source": [
    "ex3=list(ex2)"
   ]
  },
  {
   "cell_type": "code",
   "execution_count": 13,
   "id": "7cb20bd9",
   "metadata": {},
   "outputs": [
    {
     "data": {
      "text/plain": [
       "list"
      ]
     },
     "execution_count": 13,
     "metadata": {},
     "output_type": "execute_result"
    }
   ],
   "source": [
    "type(ex3)"
   ]
  },
  {
   "cell_type": "code",
   "execution_count": 14,
   "id": "923da31b",
   "metadata": {},
   "outputs": [],
   "source": [
    "ex3[2]=\"Vaishnavi\""
   ]
  },
  {
   "cell_type": "code",
   "execution_count": 15,
   "id": "b9f67d90",
   "metadata": {},
   "outputs": [
    {
     "data": {
      "text/plain": [
       "['Piyush', 'Sheela', 'Vaishnavi', 'Arun']"
      ]
     },
     "execution_count": 15,
     "metadata": {},
     "output_type": "execute_result"
    }
   ],
   "source": [
    "ex3"
   ]
  },
  {
   "cell_type": "code",
   "execution_count": null,
   "id": "55fff8cf",
   "metadata": {},
   "outputs": [],
   "source": []
  }
 ],
 "metadata": {
  "kernelspec": {
   "display_name": "Python 3 (ipykernel)",
   "language": "python",
   "name": "python3"
  },
  "language_info": {
   "codemirror_mode": {
    "name": "ipython",
    "version": 3
   },
   "file_extension": ".py",
   "mimetype": "text/x-python",
   "name": "python",
   "nbconvert_exporter": "python",
   "pygments_lexer": "ipython3",
   "version": "3.10.9"
  }
 },
 "nbformat": 4,
 "nbformat_minor": 5
}
