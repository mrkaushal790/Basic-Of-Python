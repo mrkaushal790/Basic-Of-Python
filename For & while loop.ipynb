{
 "cells": [
  {
   "cell_type": "markdown",
   "id": "99c24056",
   "metadata": {},
   "source": [
    "# For Loop"
   ]
  },
  {
   "cell_type": "code",
   "execution_count": null,
   "id": "a69e15a4",
   "metadata": {},
   "outputs": [],
   "source": [
    "#### Sum Of Squares of Numbers"
   ]
  },
  {
   "cell_type": "code",
   "execution_count": 3,
   "id": "d51849cb",
   "metadata": {},
   "outputs": [
    {
     "data": {
      "text/plain": [
       "40"
      ]
     },
     "execution_count": 3,
     "metadata": {},
     "output_type": "execute_result"
    }
   ],
   "source": [
    "numbers=[1,3,2,1,5]\n",
    "sum_=0\n",
    "\n",
    "for num in numbers:\n",
    "    sum_=sum_+num**2\n",
    "    \n",
    "sum_"
   ]
  },
  {
   "cell_type": "code",
   "execution_count": 4,
   "id": "b5d346f0",
   "metadata": {},
   "outputs": [
    {
     "name": "stdout",
     "output_type": "stream",
     "text": [
      "The cube root of [27] is: 1.7099759466766968\n"
     ]
    }
   ],
   "source": [
    "numbers=[27]\n",
    "cube_root= num** (1/3)\n",
    "print(f\"The cube root of {numbers} is: {cube_root}\")"
   ]
  },
  {
   "cell_type": "code",
   "execution_count": 5,
   "id": "7ddeb14b",
   "metadata": {},
   "outputs": [
    {
     "name": "stdout",
     "output_type": "stream",
     "text": [
      "27\n"
     ]
    }
   ],
   "source": [
    "x = [1,3,5,8,9]\n",
    "product = 1\n",
    "for i in numbers:\n",
    "    product = product * i\n",
    "    \n",
    "print(product)"
   ]
  },
  {
   "cell_type": "code",
   "execution_count": 7,
   "id": "b8250331",
   "metadata": {},
   "outputs": [
    {
     "name": "stdout",
     "output_type": "stream",
     "text": [
      "Apple\n",
      "Banana\n",
      "Cherry\n"
     ]
    }
   ],
   "source": [
    "fruits=[\"Apple\",\"Banana\",\"Cherry\"]\n",
    "for fruit in fruits:\n",
    "    print(fruit)"
   ]
  },
  {
   "cell_type": "code",
   "execution_count": 11,
   "id": "6554bb2f",
   "metadata": {},
   "outputs": [
    {
     "ename": "TypeError",
     "evalue": "'str' object cannot be interpreted as an integer",
     "output_type": "error",
     "traceback": [
      "\u001b[1;31m---------------------------------------------------------------------------\u001b[0m",
      "\u001b[1;31mTypeError\u001b[0m                                 Traceback (most recent call last)",
      "Cell \u001b[1;32mIn[11], line 1\u001b[0m\n\u001b[1;32m----> 1\u001b[0m \u001b[38;5;28;01mfor\u001b[39;00m letter \u001b[38;5;129;01min\u001b[39;00m \u001b[38;5;28mrange\u001b[39m(\u001b[38;5;124m\"\u001b[39m\u001b[38;5;124mKaushal\u001b[39m\u001b[38;5;124m\"\u001b[39m):\n\u001b[0;32m      2\u001b[0m     \u001b[38;5;28mprint\u001b[39m(letter)\n",
      "\u001b[1;31mTypeError\u001b[0m: 'str' object cannot be interpreted as an integer"
     ]
    }
   ],
   "source": [
    "for letter in range(\"Kaushal\"):\n",
    "    print(letter)"
   ]
  },
  {
   "cell_type": "code",
   "execution_count": 12,
   "id": "a32285e9",
   "metadata": {},
   "outputs": [
    {
     "name": "stdout",
     "output_type": "stream",
     "text": [
      "0\n",
      "1\n",
      "2\n",
      "3\n",
      "4\n"
     ]
    }
   ],
   "source": [
    "for i in range(5):\n",
    "    print(i)"
   ]
  },
  {
   "cell_type": "code",
   "execution_count": null,
   "id": "a5ee0b76",
   "metadata": {},
   "outputs": [],
   "source": [
    "for i in range(5):\n",
    "    print(i)"
   ]
  },
  {
   "cell_type": "code",
   "execution_count": 13,
   "id": "cde3fde7",
   "metadata": {},
   "outputs": [
    {
     "name": "stdout",
     "output_type": "stream",
     "text": [
      "[3, 5, 6, 8, 4, 5, 7, 8, 10, 6]\n"
     ]
    }
   ],
   "source": [
    "my_list=[3,5,6,8,4]\n",
    "\n",
    "for num in range(len(my_list)):\n",
    "    my_list.append(my_list[num]+2)\n",
    "print(my_list)"
   ]
  },
  {
   "cell_type": "code",
   "execution_count": null,
   "id": "d95faa7c",
   "metadata": {},
   "outputs": [],
   "source": [
    "num=125\n",
    "cube_root= num**(1/3)\n",
    "print(f\"The)"
   ]
  },
  {
   "cell_type": "code",
   "execution_count": 14,
   "id": "b290d399",
   "metadata": {},
   "outputs": [
    {
     "name": "stdout",
     "output_type": "stream",
     "text": [
      "55\n"
     ]
    }
   ],
   "source": [
    "num=5\n",
    "\n",
    "summation=0\n",
    "\n",
    "c=1\n",
    "\n",
    "while c<=num:\n",
    "    summation=c**2 + summation\n",
    "    c=c+1\n",
    "    \n",
    "print(summation)"
   ]
  },
  {
   "cell_type": "code",
   "execution_count": 15,
   "id": "2c035cdd",
   "metadata": {},
   "outputs": [
    {
     "name": "stdout",
     "output_type": "stream",
     "text": [
      "12 is not a PRIME number\n",
      "14 is not a PRIME number\n",
      "6 is not a PRIME number\n",
      "7 is a PRIME number\n",
      "9 is not a PRIME number\n",
      "19 is a PRIME number\n",
      "25 is not a PRIME number\n",
      "36 is not a PRIME number\n"
     ]
    }
   ],
   "source": [
    "num=[12,14,6,7,9,19,25,36]\n",
    "def prime_number(number):\n",
    "    condition = 0\n",
    "    iteration = 2\n",
    "    while iteration <= number / 2:\n",
    "        if number % iteration == 0:  # Corrected this line (removed extra 0)\n",
    "            condition = 1\n",
    "            break\n",
    "        iteration = iteration + 1\n",
    "\n",
    "    if condition == 0:\n",
    "        print(f\"{number} is a PRIME number\")\n",
    "    else:\n",
    "        print(f\"{number} is not a PRIME number\")\n",
    "\n",
    "for i in num:\n",
    "    prime_number(i)\n",
    "\n"
   ]
  },
  {
   "cell_type": "code",
   "execution_count": 17,
   "id": "1a743e62",
   "metadata": {},
   "outputs": [
    {
     "name": "stdout",
     "output_type": "stream",
     "text": [
      "29 is a prime number\n"
     ]
    }
   ],
   "source": [
    "\n",
    "num = 29\n",
    "\n",
    "# To take input from the user\n",
    "#num = int(input(\"Enter a number: \"))\n",
    "\n",
    "# define a flag variable\n",
    "flag = False\n",
    "\n",
    "if num == 1:\n",
    "    print(num, \"is not a prime number\")\n",
    "elif num > 1:\n",
    "    # check for factors\n",
    "    for i in range(2, num):\n",
    "        if (num % i) == 0:\n",
    "            # if factor is found, set flag to True\n",
    "            flag = True\n",
    "            # break out of loop\n",
    "            break\n",
    "\n",
    "    # check if flag is True\n",
    "    if flag:\n",
    "        print(num, \"is not a prime number\")\n",
    "    else:\n",
    "        print(num, \"is a prime number\")"
   ]
  },
  {
   "cell_type": "code",
   "execution_count": 18,
   "id": "21adaf3b",
   "metadata": {},
   "outputs": [
    {
     "name": "stdout",
     "output_type": "stream",
     "text": [
      "P\n",
      "y\n",
      "t\n",
      "h\n",
      "o\n",
      "n\n",
      " \n",
      "P\n",
      "r\n",
      "o\n",
      "g\n",
      "r\n"
     ]
    }
   ],
   "source": [
    "for string in \"Python Programming\":\n",
    "    if string==\"a\":\n",
    "        break\n",
    "    print(string)"
   ]
  },
  {
   "cell_type": "code",
   "execution_count": null,
   "id": "a0088813",
   "metadata": {},
   "outputs": [],
   "source": []
  }
 ],
 "metadata": {
  "kernelspec": {
   "display_name": "Python 3 (ipykernel)",
   "language": "python",
   "name": "python3"
  },
  "language_info": {
   "codemirror_mode": {
    "name": "ipython",
    "version": 3
   },
   "file_extension": ".py",
   "mimetype": "text/x-python",
   "name": "python",
   "nbconvert_exporter": "python",
   "pygments_lexer": "ipython3",
   "version": "3.11.5"
  }
 },
 "nbformat": 4,
 "nbformat_minor": 5
}
